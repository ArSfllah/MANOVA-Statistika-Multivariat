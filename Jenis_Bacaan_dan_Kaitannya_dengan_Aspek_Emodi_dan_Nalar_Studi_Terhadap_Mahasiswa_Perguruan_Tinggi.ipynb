{
  "nbformat": 4,
  "nbformat_minor": 0,
  "metadata": {
    "colab": {
      "provenance": [],
      "authorship_tag": "ABX9TyMDuAesO4zP/ShQ1y/w9ea7",
      "include_colab_link": true
    },
    "kernelspec": {
      "name": "python3",
      "display_name": "Python 3"
    },
    "language_info": {
      "name": "python"
    }
  },
  "cells": [
    {
      "cell_type": "markdown",
      "metadata": {
        "id": "view-in-github",
        "colab_type": "text"
      },
      "source": [
        "<a href=\"https://colab.research.google.com/github/ArSfllah/MANOVA-Statistika-Multivariat/blob/main/Jenis_Bacaan_dan_Kaitannya_dengan_Aspek_Emodi_dan_Nalar_Studi_Terhadap_Mahasiswa_Perguruan_Tinggi.ipynb\" target=\"_parent\"><img src=\"https://colab.research.google.com/assets/colab-badge.svg\" alt=\"Open In Colab\"/></a>"
      ]
    },
    {
      "cell_type": "code",
      "execution_count": 1,
      "metadata": {
        "colab": {
          "base_uri": "https://localhost:8080/"
        },
        "id": "qVI_p3ew6JQz",
        "outputId": "a84d7464-8d04-477d-da53-47c05a055af1"
      },
      "outputs": [
        {
          "output_type": "stream",
          "name": "stdout",
          "text": [
            "Requirement already satisfied: statsmodels in /usr/local/lib/python3.11/dist-packages (0.14.4)\n",
            "Requirement already satisfied: numpy<3,>=1.22.3 in /usr/local/lib/python3.11/dist-packages (from statsmodels) (2.0.2)\n",
            "Requirement already satisfied: scipy!=1.9.2,>=1.8 in /usr/local/lib/python3.11/dist-packages (from statsmodels) (1.15.3)\n",
            "Requirement already satisfied: pandas!=2.1.0,>=1.4 in /usr/local/lib/python3.11/dist-packages (from statsmodels) (2.2.2)\n",
            "Requirement already satisfied: patsy>=0.5.6 in /usr/local/lib/python3.11/dist-packages (from statsmodels) (1.0.1)\n",
            "Requirement already satisfied: packaging>=21.3 in /usr/local/lib/python3.11/dist-packages (from statsmodels) (24.2)\n",
            "Requirement already satisfied: python-dateutil>=2.8.2 in /usr/local/lib/python3.11/dist-packages (from pandas!=2.1.0,>=1.4->statsmodels) (2.9.0.post0)\n",
            "Requirement already satisfied: pytz>=2020.1 in /usr/local/lib/python3.11/dist-packages (from pandas!=2.1.0,>=1.4->statsmodels) (2025.2)\n",
            "Requirement already satisfied: tzdata>=2022.7 in /usr/local/lib/python3.11/dist-packages (from pandas!=2.1.0,>=1.4->statsmodels) (2025.2)\n",
            "Requirement already satisfied: six>=1.5 in /usr/local/lib/python3.11/dist-packages (from python-dateutil>=2.8.2->pandas!=2.1.0,>=1.4->statsmodels) (1.17.0)\n",
            "                  Multivariate linear model\n",
            "=============================================================\n",
            "                                                             \n",
            "-------------------------------------------------------------\n",
            "        Intercept        Value  Num DF  Den DF F Value Pr > F\n",
            "-------------------------------------------------------------\n",
            "           Wilks' lambda 0.4415 2.0000 93.0000 58.8308 0.0000\n",
            "          Pillai's trace 0.5585 2.0000 93.0000 58.8308 0.0000\n",
            "  Hotelling-Lawley trace 1.2652 2.0000 93.0000 58.8308 0.0000\n",
            "     Roy's greatest root 1.2652 2.0000 93.0000 58.8308 0.0000\n",
            "-------------------------------------------------------------\n",
            "                                                             \n",
            "-------------------------------------------------------------\n",
            "         C(IV1)         Value  Num DF  Den DF  F Value Pr > F\n",
            "-------------------------------------------------------------\n",
            "          Wilks' lambda 0.9456 4.0000 186.0000  1.3183 0.2647\n",
            "         Pillai's trace 0.0544 4.0000 188.0000  1.3138 0.2664\n",
            " Hotelling-Lawley trace 0.0575 4.0000 110.5683  1.3322 0.2625\n",
            "    Roy's greatest root 0.0574 2.0000  94.0000  2.6972 0.0726\n",
            "-------------------------------------------------------------\n",
            "                                                             \n",
            "-------------------------------------------------------------\n",
            "          C(IV2)         Value  Num DF  Den DF F Value Pr > F\n",
            "-------------------------------------------------------------\n",
            "           Wilks' lambda 0.9488 2.0000 93.0000  2.5090 0.0868\n",
            "          Pillai's trace 0.0512 2.0000 93.0000  2.5090 0.0868\n",
            "  Hotelling-Lawley trace 0.0540 2.0000 93.0000  2.5090 0.0868\n",
            "     Roy's greatest root 0.0540 2.0000 93.0000  2.5090 0.0868\n",
            "-------------------------------------------------------------\n",
            "                                                             \n",
            "-------------------------------------------------------------\n",
            "     C(IV1):C(IV2)      Value  Num DF  Den DF  F Value Pr > F\n",
            "-------------------------------------------------------------\n",
            "          Wilks' lambda 0.9479 4.0000 186.0000  1.2604 0.2872\n",
            "         Pillai's trace 0.0522 4.0000 188.0000  1.2600 0.2873\n",
            " Hotelling-Lawley trace 0.0548 4.0000 110.5683  1.2697 0.2863\n",
            "    Roy's greatest root 0.0520 2.0000  94.0000  2.4460 0.0921\n",
            "=============================================================\n",
            "\n"
          ]
        }
      ],
      "source": [
        "# prompt: MANOVA\n",
        "\n",
        "!pip install statsmodels\n",
        "\n",
        "import statsmodels.api as sm\n",
        "from statsmodels.multivariate.manova import MANOVA\n",
        "import pandas as pd\n",
        "import numpy as np\n",
        "\n",
        "# Create some sample data for demonstration\n",
        "np.random.seed(42)\n",
        "data = {\n",
        "    'DV1': np.random.rand(100) * 10,\n",
        "    'DV2': np.random.rand(100) * 15,\n",
        "    'IV1': np.random.choice(['A', 'B', 'C'], 100),\n",
        "    'IV2': np.random.choice(['X', 'Y'], 100),\n",
        "}\n",
        "df = pd.DataFrame(data)\n",
        "\n",
        "# Fit the MANOVA model\n",
        "# The formula specifies the dependent variables (DV1, DV2) and independent variables (IV1, IV2)\n",
        "# C(IV1) and C(IV2) treat the variables as categorical\n",
        "manova = MANOVA.from_formula('DV1 + DV2 ~ C(IV1) + C(IV2) + C(IV1):C(IV2)', data=df)\n",
        "\n",
        "# Print the results\n",
        "print(manova.mv_test())\n"
      ]
    },
    {
      "cell_type": "code",
      "source": [
        "haii"
      ],
      "metadata": {
        "id": "u1_5bZ7TCKpa"
      },
      "execution_count": null,
      "outputs": []
    }
  ]
}